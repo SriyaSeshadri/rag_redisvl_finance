{
  "cells": [
    {
      "cell_type": "markdown",
      "metadata": {
        "id": "R2-i8jBl9GRH"
      },
      "source": [
        "<a href=\"https://colab.research.google.com/github/Redislabs-Solution-Architects/financial-vss/blob/main/redisvl-02.ipynb\" target=\"_parent\"><img src=\"https://colab.research.google.com/assets/colab-badge.svg\" alt=\"Open In Colab\"/></a>\n",
        "\n",
        "# Vector Search with RedisVL\n",
        "\n",
        "![Redis](https://redis.com/wp-content/themes/wpx/assets/images/logo-redis.svg?auto=webp&quality=85,75&width=120)\n",
        "\n",
        "This notebook uses [redisvl](https://redisvl.com), a dedicated Python client library for using Redis as a vector database, to perform document + embdding indexing and semantic search tasks."
      ]
    },
    {
      "cell_type": "markdown",
      "metadata": {
        "id": "rT9HzsnQ1uiz"
      },
      "source": [
        "## Setup and Data Prep\n",
        "\n",
        "### Pull Github Materials\n",
        "We need to clone the supporting materials from github."
      ]
    },
    {
      "cell_type": "code",
      "execution_count": 1,
      "metadata": {
        "colab": {
          "base_uri": "https://localhost:8080/"
        },
        "id": "AJJ2UW6M1ui0",
        "outputId": "43394944-0d7f-495d-a985-deaedd9dc466"
      },
      "outputs": [
        {
          "name": "stdout",
          "output_type": "stream",
          "text": [
            "Cloning into 'temp_repo'...\n",
            "remote: Enumerating objects: 96, done.\u001b[K\n",
            "remote: Counting objects: 100% (96/96), done.\u001b[K\n",
            "remote: Compressing objects: 100% (64/64), done.\u001b[K\n",
            "remote: Total 96 (delta 43), reused 75 (delta 27), pack-reused 0\u001b[K\n",
            "Receiving objects: 100% (96/96), 7.06 MiB | 6.55 MiB/s, done.\n",
            "Resolving deltas: 100% (43/43), done.\n",
            "mv: cannot move 'temp_repo/resources' to './resources': Directory not empty\n"
          ]
        }
      ],
      "source": [
        "# This clones your git repository into a directory named 'temp_repo'.\n",
        "!git clone https://github.com/Redislabs-Solution-Architects/financial-vss.git temp_repo\n",
        "\n",
        "# This command moves the 'resources' directory from 'temp_repo' to your current directory.\n",
        "!mv temp_repo/resources .\n",
        "!mv temp_repo/requirements.txt\n",
        "\n",
        "# This deletes the 'temp_repo' directory, cleaning up the unwanted files.\n",
        "!rm -rf temp_repo\n"
      ]
    },
    {
      "cell_type": "markdown",
      "metadata": {
        "id": "Z67mf6T91ui2"
      },
      "source": [
        "### Install Python Dependencies"
      ]
    },
    {
      "cell_type": "code",
      "execution_count": 2,
      "metadata": {
        "id": "DgxBQFXQ1ui2"
      },
      "outputs": [],
      "source": [
        "!pip install -q -r requirements.txt"
      ]
    },
    {
      "cell_type": "markdown",
      "metadata": {
        "id": "KrtWWU4I1ui3"
      },
      "source": [
        "### Preprocess PDF Doc(s)\n",
        "\n",
        "Now we will load a single financial (10k filings) doc and preprocess it using some LangChain helpers."
      ]
    },
    {
      "cell_type": "code",
      "execution_count": 3,
      "metadata": {
        "colab": {
          "base_uri": "https://localhost:8080/"
        },
        "id": "uijl2qFH1ui3",
        "outputId": "67c8615a-c9e6-4a88-bc49-9a68eb61f018"
      },
      "outputs": [
        {
          "name": "stdout",
          "output_type": "stream",
          "text": [
            "Listing available documents ... ['resources/aapl-10k-2023.pdf', 'resources/nke-10k-2023.pdf', 'resources/jnj-10k-2023.pdf', 'resources/msft-10k-2023.pdf', 'resources/nvd-10k-2023.pdf', 'resources/amzn-10k-2023.pdf']\n",
            "Done preprocessing. Created 323 chunks of the original pdf resources/nke-10k-2023.pdf\n"
          ]
        }
      ],
      "source": [
        "import os\n",
        "\n",
        "# Load list of pdfs\n",
        "data_path = \"resources/\"\n",
        "docs = [os.path.join(data_path, file) for file in os.listdir(data_path)]\n",
        "\n",
        "print(\"Listing available documents ...\", docs)"
      ]
    },
    {
      "cell_type": "code",
      "execution_count": null,
      "metadata": {},
      "outputs": [],
      "source": [
        "from langchain.text_splitter import RecursiveCharacterTextSplitter\n",
        "from langchain.document_loaders import UnstructuredFileLoader\n",
        "\n",
        "# For simplicity, we will just work with one of the 10k files. This will take some time still.\n",
        "# To Note: the UnstructuredFileLoader is not the only document loader type that LangChain provides\n",
        "# To Note: the RecursiveCharacterTextSplitter is what we use to create smaller chunks of text from the doc.\n",
        "# Docs: https://python.langchain.com/docs/integrations/document_loaders/unstructured_file\n",
        "# Docs: https://python.langchain.com/docs/modules/data_connection/document_transformers/text_splitters/recursive_text_splitter\n",
        "doc = [doc for doc in docs if \"nke\" in doc][0]\n",
        "text_splitter = RecursiveCharacterTextSplitter(chunk_size=1500, chunk_overlap=100, add_start_index=True)\n",
        "loader = UnstructuredFileLoader(doc, mode=\"single\", strategy=\"fast\")\n",
        "chunks = loader.load_and_split(text_splitter)\n",
        "\n",
        "print(\"Done preprocessing. Created\", len(chunks), \"chunks of the original pdf\", doc)"
      ]
    },
    {
      "cell_type": "code",
      "execution_count": 4,
      "metadata": {
        "colab": {
          "base_uri": "https://localhost:8080/"
        },
        "id": "VHkDVoVi1ui5",
        "outputId": "adcf7533-fff9-4305-de49-5c8575517f95"
      },
      "outputs": [
        {
          "name": "stdout",
          "output_type": "stream",
          "text": [
            "page_content=\"NIKE, Inc.(Exact name of Registrant as specified in its charter)Oregon93-0584541(State or other jurisdiction of incorporation)(IRS Employer Identification No.)One Bowerman Drive, Beaverton, Oregon 97005-6453(Address of principal executive offices and zip code)(503) 671-6453(Registrant's telephone number, including area code)SECURITIES REGISTERED PURSUANT TO SECTION 12(B) OF THE ACT:Class B Common StockNKENew York Stock Exchange(Title of each class)(Trading symbol)(Name of each exchange on which registered)SECURITIES REGISTERED PURSUANT TO SECTION 12(G) OF THE ACT:NONE\\n\\nAs of November 30, 2022, the aggregate market values of the Registrant's Common Stock held by non-affiliates were:Class A$7,831,564,572 Class B136,467,702,472 $144,299,267,044\\n\\nTable of ContentsUNITED STATESSECURITIES AND EXCHANGE COMMISSIONWashington, D.C. 20549FORM 10-K(Mark One)☑ ANNUAL REPORT PURSUANT TO SECTION 13 OR 15(D) OF THE SECURITIES EXCHANGE ACT OF 1934FOR THE FISCAL YEAR ENDED MAY 31, 2023OR☐ TRANSITION REPORT PURSUANT TO SECTION 13 OR 15(D) OF THE SECURITIES EXCHANGE ACT OF 1934FOR THE TRANSITION PERIOD FROM TO .Commission File No. 1-10635\\n\\nTable of Contents\\n\\nAs of July 12, 2023, the number of shares of the Registrant's Common Stock outstanding were:\\n\\nClass A\\n\\nClass B\\n\\nDOCUMENTS INCORPORATED BY REFERENCE:\\n\\nParts of Registrant's Proxy Statement for the Annual Meeting of Shareholders to be held on September 12, 2023, are incorporated by reference into Part III of this report.\\n\\n304,897,252\" metadata={'source': 'resources/nke-10k-2023.pdf', 'start_index': 2361}\n"
          ]
        }
      ],
      "source": [
        "# Take a look at one item\n",
        "print(chunks[2])"
      ]
    },
    {
      "cell_type": "markdown",
      "metadata": {
        "id": "TBjCgE-J1ui6"
      },
      "source": [
        "### Create document chunk embeddings"
      ]
    },
    {
      "cell_type": "code",
      "execution_count": 5,
      "metadata": {
        "colab": {
          "base_uri": "https://localhost:8080/"
        },
        "id": "DH_tyNbf1ui9",
        "outputId": "6d45a3cf-9952-45de-eb7d-f4792ad62aa0"
      },
      "outputs": [
        {
          "data": {
            "text/plain": [
              "True"
            ]
          },
          "execution_count": 5,
          "metadata": {},
          "output_type": "execute_result"
        }
      ],
      "source": [
        "from redisvl.utils.vectorize import HFTextVectorizer\n",
        "\n",
        "hf = HFTextVectorizer(\"sentence-transformers/all-MiniLM-L6-v2\")\n",
        "\n",
        "# Embed each page_content from the document chunks\n",
        "chunk_embeddings = hf.embed_many([chunk.page_content for chunk in chunks])\n",
        "\n",
        "# Check to make sure we've created enough embeddings, 1 per document chunk\n",
        "len(chunk_embeddings) == len(chunks)"
      ]
    },
    {
      "cell_type": "markdown",
      "metadata": {
        "id": "6p3jimVo1ui9"
      },
      "source": [
        "### Run Localized Redis Stack\n",
        "\n",
        "If you don't have a remote Redis instance, use an in-notebook version of [Redis Stack](https://redis.io/docs/getting-started/install-stack/). Or you can provision your own free instance of [Redis Cloud](https://redis.com/try-free/).\n",
        "\n",
        "\n",
        "Use the below code to download and run a localized version of Redis Stack here in the notebook."
      ]
    },
    {
      "cell_type": "code",
      "execution_count": 6,
      "metadata": {
        "colab": {
          "base_uri": "https://localhost:8080/"
        },
        "id": "B3CTLZza1ui9",
        "outputId": "f5c16dee-9511-4e71-9271-50fcc11c0907"
      },
      "outputs": [
        {
          "name": "stdout",
          "output_type": "stream",
          "text": [
            "deb [signed-by=/usr/share/keyrings/redis-archive-keyring.gpg] https://packages.redis.io/deb jammy main\n",
            "Starting redis-stack-server, database path /var/lib/redis-stack\n"
          ]
        },
        {
          "name": "stderr",
          "output_type": "stream",
          "text": [
            "gpg: cannot open '/dev/tty': No such device or address\n",
            "curl: (23) Failed writing body\n"
          ]
        }
      ],
      "source": [
        "%%sh\n",
        "curl -fsSL https://packages.redis.io/gpg | sudo gpg --dearmor -o /usr/share/keyrings/redis-archive-keyring.gpg\n",
        "echo \"deb [signed-by=/usr/share/keyrings/redis-archive-keyring.gpg] https://packages.redis.io/deb $(lsb_release -cs) main\" | sudo tee /etc/apt/sources.list.d/redis.list\n",
        "sudo apt-get update  > /dev/null 2>&1\n",
        "sudo apt-get install redis-stack-server  > /dev/null 2>&1\n",
        "redis-stack-server --daemonize yes"
      ]
    },
    {
      "cell_type": "markdown",
      "metadata": {
        "id": "MbBIY8Vi1ui-"
      },
      "source": [
        "### Connect to Redis\n",
        "\n",
        "By default this notebook would connect to the local instance of Redis Stack. If you have your own Redis Cloud instance - replace REDIS_PASSWORD, REDIS_HOST and REDIS_PORT values with your own."
      ]
    },
    {
      "cell_type": "code",
      "execution_count": 7,
      "metadata": {
        "id": "ENQXsci01ui-"
      },
      "outputs": [],
      "source": [
        "# Replace values below with your own if using Redis Cloud instance\n",
        "REDIS_HOST = os.getenv(\"REDIS_HOST\", \"localhost\") # \"redis-18374.c253.us-central1-1.gce.cloud.redislabs.com\"\n",
        "REDIS_PORT = os.getenv(\"REDIS_PORT\", \"6379\")      # 18374\n",
        "REDIS_PASSWORD = os.getenv(\"REDIS_PASSWORD\", \"\")  # \"1TNxTEdYRDgIDKM2gDfasupCADXXXX\"\n",
        "\n",
        "\n",
        "#shortcut for redis-cli $REDIS_CONN command\n",
        "if REDIS_PASSWORD!=\"\":\n",
        "  os.environ[\"REDIS_CONN\"]=f\"-h {REDIS_HOST} -p {REDIS_PORT} -a {REDIS_PASSWORD} --no-auth-warning\"\n",
        "else:\n",
        "  os.environ[\"REDIS_CONN\"]=f\"-h {REDIS_HOST} -p {REDIS_PORT}\"\n",
        "\n",
        "REDIS_URL = f\"redis://:{REDIS_PASSWORD}@{REDIS_HOST}:{REDIS_PORT}\"\n"
      ]
    },
    {
      "cell_type": "markdown",
      "metadata": {
        "id": "5baI0xDQ1ui-"
      },
      "source": [
        "## Getting Started with RedisVL\n",
        "\n",
        "### Create an index from schema\n",
        "Below we connect to Redis and create an index for vector search that contains a single text field and vector field."
      ]
    },
    {
      "cell_type": "code",
      "execution_count": null,
      "metadata": {
        "id": "zB1EW_9n1ui-"
      },
      "outputs": [],
      "source": [
        "from redis import Redis\n",
        "from redisvl.schema import IndexSchema\n",
        "from redisvl.index import SearchIndex\n",
        "\n",
        "index_name = \"redisvl\"\n",
        "\n",
        "schema = IndexSchema.from_dict({\n",
        "  \"index\": {\n",
        "    \"name\": index_name,\n",
        "    \"prefix\": \"chunk\"\n",
        "  },\n",
        "  \"fields\": [\n",
        "    {\"name\": \"label\", \"type\": \"tag\", \"attrs\": {\"sortable\": True}},\n",
        "    {\"name\": \"content\", \"type\": \"text\"},\n",
        "    {\n",
        "      \"name\": \"chunk_vector\",\n",
        "      \"type\": \"vector\",\n",
        "      \"attrs\": {\n",
        "        \"dims\": 384,\n",
        "        \"distance_metric\": \"cosine\",\n",
        "        \"algorithm\": \"hnsw\",\n",
        "        \"datatype\": \"float32\"\n",
        "      }\n",
        "    }\n",
        "  ]\n",
        "})\n",
        "\n",
        "# connect to redis\n",
        "client = Redis.from_url(REDIS_URL)\n",
        "\n",
        "# create an index\n",
        "index = SearchIndex(schema, client)\n",
        "index.create(overwrite=True)"
      ]
    },
    {
      "cell_type": "code",
      "execution_count": 18,
      "metadata": {
        "colab": {
          "base_uri": "https://localhost:8080/"
        },
        "id": "L6GOqmeN1ui_",
        "outputId": "c20fd343-16bc-4b0d-c280-e7c58cf1a07b"
      },
      "outputs": [
        {
          "name": "stdout",
          "output_type": "stream",
          "text": [
            "\u001b[32m22:19:42\u001b[0m \u001b[34m[RedisVL]\u001b[0m \u001b[1;30mINFO\u001b[0m   Indices:\n",
            "\u001b[32m22:19:42\u001b[0m \u001b[34m[RedisVL]\u001b[0m \u001b[1;30mINFO\u001b[0m   1. redisvl\n"
          ]
        }
      ],
      "source": [
        "# use the CLI to see the created index\n",
        "!rvl index listall"
      ]
    },
    {
      "cell_type": "code",
      "execution_count": 19,
      "metadata": {
        "colab": {
          "base_uri": "https://localhost:8080/"
        },
        "id": "C70C-UWj1ujA",
        "outputId": "40d9366a-e3de-4611-ed9b-6ae30d3b8cd5"
      },
      "outputs": [
        {
          "name": "stdout",
          "output_type": "stream",
          "text": [
            "\n",
            "\n",
            "Index Information:\n",
            "╭──────────────┬────────────────┬─────────────────┬─────────────────┬────────────╮\n",
            "│ Index Name   │ Storage Type   │ Prefixes        │ Index Options   │   Indexing │\n",
            "├──────────────┼────────────────┼─────────────────┼─────────────────┼────────────┤\n",
            "│ redisvl      │ HASH           │ ['doc:redisvl'] │ []              │          0 │\n",
            "╰──────────────┴────────────────┴─────────────────┴─────────────────┴────────────╯\n",
            "Index Fields:\n",
            "╭──────────────┬──────────────┬────────┬────────────────┬────────────────╮\n",
            "│ Name         │ Attribute    │ Type   │ Field Option   │   Option Value │\n",
            "├──────────────┼──────────────┼────────┼────────────────┼────────────────┤\n",
            "│ label        │ label        │ TEXT   │ WEIGHT         │              1 │\n",
            "│ content      │ content      │ TEXT   │ WEIGHT         │              1 │\n",
            "│ chunk_vector │ chunk_vector │ VECTOR │                │                │\n",
            "╰──────────────┴──────────────┴────────┴────────────────┴────────────────╯\n"
          ]
        }
      ],
      "source": [
        "!rvl index info -i redisvl"
      ]
    },
    {
      "cell_type": "markdown",
      "metadata": {
        "id": "Qrj-jeGmBRTL"
      },
      "source": [
        "### Process and load data using RedisVL\n",
        "Below we use the RedisVL index to simply load the list of document chunks to Redis db."
      ]
    },
    {
      "cell_type": "code",
      "execution_count": 20,
      "metadata": {
        "id": "Zsg09Keg1ujA"
      },
      "outputs": [],
      "source": [
        "# load expects an iterable of dictionaries\n",
        "from redisvl.redis.utils import array_to_buffer\n",
        "\n",
        "data = [\n",
        "    {\n",
        "        'label': f'ID-{i}',\n",
        "        'content': chunk.page_content,\n",
        "        # For HASH -- must convert embeddings to bytes\n",
        "        'chunk_vector': array_to_buffer(chunk_embeddings[i])\n",
        "    } for i, chunk in enumerate(chunks)\n",
        "]\n",
        "\n",
        "# RedisVL handles batching automatically\n",
        "keys = index.load(data)"
      ]
    },
    {
      "cell_type": "markdown",
      "metadata": {
        "id": "-ZsFB-6Z1ujB"
      },
      "source": [
        "### Query the database\n",
        "Now we can use the RedisVL index to perform similarity search operations with Redis"
      ]
    },
    {
      "cell_type": "code",
      "execution_count": 23,
      "metadata": {
        "colab": {
          "base_uri": "https://localhost:8080/",
          "height": 35
        },
        "id": "BkFv-_iC1ujB",
        "outputId": "4115d8c9-17fc-4ec6-bd84-61f8df8fa1f4"
      },
      "outputs": [
        {
          "data": {
            "application/vnd.google.colaboratory.intrinsic+json": {
              "type": "string"
            },
            "text/plain": [
              "'*=>[KNN 4 @chunk_vector $vector AS vector_distance] RETURN 3 label content vector_distance SORTBY vector_distance ASC DIALECT 2 LIMIT 0 4'"
            ]
          },
          "execution_count": 23,
          "metadata": {},
          "output_type": "execute_result"
        }
      ],
      "source": [
        "from redisvl.query import VectorQuery\n",
        "\n",
        "query = \"Nike profit margins and company performance\"\n",
        "\n",
        "vector_query = VectorQuery(\n",
        "    vector=hf.embed(query),\n",
        "    vector_field_name=\"chunk_vector\",\n",
        "    num_results=4,\n",
        "    return_fields=[\"label\", \"content\"],\n",
        "    return_score=True\n",
        ")\n",
        "\n",
        "# show the raw redis query\n",
        "str(vector_query)"
      ]
    },
    {
      "cell_type": "code",
      "execution_count": 24,
      "metadata": {
        "colab": {
          "base_uri": "https://localhost:8080/"
        },
        "id": "5reL5qTW1ujC",
        "outputId": "2d5a91e9-68a3-4692-dc1e-501a0a20f07d"
      },
      "outputs": [
        {
          "data": {
            "text/plain": [
              "[{'id': 'doc:redisvl:faf74f986a86418fb1be5d46dd5d3707',\n",
              "  'vector_distance': '0.354781925678',\n",
              "  'label': 'ID-150',\n",
              "  'content': '2023 FORM 10-K 35\\n\\nTable of Contents\\n\\nOPERATING SEGMENTS\\n\\nAs discussed in Note 15 — Operating Segments and Related Information in the accompanying Notes to the Consolidated Financial Statements, our operating segments are evidence of the structure of the Company\\'s internal organization. The NIKE Brand segments are defined by geographic regions for operations participating in NIKE Brand sales activity.\\n\\nThe breakdown of Revenues is as follows:\\n\\n(Dollars in millions)\\n\\nFISCAL 2023 FISCAL 2022\\n\\n% CHANGE\\n\\n% CHANGE EXCLUDING CURRENCY (1) CHANGES FISCAL 2021\\n\\n% CHANGE\\n\\nNorth America Europe, Middle East & Africa Greater China\\n\\n$\\n\\n21,608 $ 13,418 7,248\\n\\n18,353 12,479 7,547\\n\\n18 % 8 % -4 %\\n\\n18 % $ 21 % 4 %\\n\\n17,179 11,456 8,290\\n\\n7 % 9 % -9 %\\n\\nAsia Pacific & Latin America Global Brand Divisions\\n\\n(3)\\n\\n(2)\\n\\n6,431 58\\n\\n5,955 102\\n\\n8 % -43 %\\n\\n17 % -43 %\\n\\n5,343 25\\n\\n11 % 308 %\\n\\nTOTAL NIKE BRAND Converse\\n\\n$\\n\\n48,763 $ 2,427\\n\\n44,436 2,346\\n\\n10 % 3 %\\n\\n16 % $ 8 %\\n\\n42,293 2,205\\n\\n5 % 6 %\\n\\n(4)\\n\\nCorporate TOTAL NIKE, INC. REVENUES\\n\\n$\\n\\n27\\n\\n51,217 $\\n\\n(72) 46,710\\n\\n— 10 %\\n\\n— 16 % $\\n\\n40 44,538\\n\\n— 5 %\\n\\n(1) The percent change excluding currency changes represents a non-GAAP financial measure. For further information, see \"Use of Non-GAAP Financial Measures\".\\n\\n(2) For additional information on the transition of our NIKE Brand businesses within our CASA territory to a third-party distributor, see Note 18 — Acquisitions and Divestitures of the Notes to Consolidated'},\n",
              " {'id': 'doc:redisvl:1e709473af2b485f992860bfe4f4fb60',\n",
              "  'vector_distance': '0.360561609268',\n",
              "  'label': 'ID-151',\n",
              "  'content': 'Financial Statements contained in Item 8 of this Annual Report.\\n\\n(3) Global Brand Divisions revenues include NIKE Brand licensing and other miscellaneous revenues that are not part of a geographic operating segment.\\n\\n(4) Corporate revenues primarily consist of foreign currency hedge gains and losses related to revenues generated by entities within the NIKE Brand geographic operating segments and Converse, but\\n\\nmanaged through our central foreign exchange risk management program.\\n\\nThe primary financial measure used by the Company to evaluate performance is Earnings Before Interest and Taxes (\"EBIT\"). As discussed in Note 15 — Operating Segments and Related Information in the accompanying Notes to the Consolidated Financial Statements, certain corporate costs are not included in EBIT.\\n\\nThe breakdown of EBIT is as follows:\\n\\n(Dollars in millions)\\n\\nFISCAL 2023\\n\\nFISCAL 2022\\n\\n% CHANGE\\n\\nFISCAL 2021\\n\\nNorth America Europe, Middle East & Africa Greater China\\n\\n$\\n\\n5,454 3,531 2,283\\n\\n$\\n\\n5,114 3,293 2,365\\n\\n7 % $ 7 % -3 %\\n\\n5,089 2,435 3,243\\n\\nAsia Pacific & Latin America Global Brand Divisions (1)\\n\\nTOTAL NIKE BRAND Converse\\n\\n$\\n\\n1,932 (4,841)\\n\\n8,359 676\\n\\n$\\n\\n1,896 (4,262)\\n\\n8,406 669\\n\\n2 % -14 %\\n\\n1 % $ 1 %\\n\\n1,530 (3,656)\\n\\n8,641 543\\n\\nCorporate TOTAL NIKE, INC. EARNINGS BEFORE INTEREST AND TAXES\\n\\n(1)\\n\\n$\\n\\n(2,840)\\n\\n6,195\\n\\n$\\n\\n(2,219)\\n\\n6,856\\n\\n28 %\\n\\n10 % $\\n\\n(2,261)\\n\\n6,923\\n\\nEBIT margin\\n\\n(1)\\n\\n12.1 %\\n\\n14.7 %\\n\\n15.5 %\\n\\nInterest expense (income), net\\n\\n(6)\\n\\n205\\n\\n—\\n\\n262'},\n",
              " {'id': 'doc:redisvl:9f2f26f97d674466bf32c058973adc96',\n",
              "  'vector_distance': '0.362202882767',\n",
              "  'label': 'ID-145',\n",
              "  'content': 'NIKE Brand apparel revenues increased 8% on a currency-neutral basis, primarily due to higher revenues in Men\\'s. Unit sales of apparel increased 4%, while higher ASP per unit contributed approximately 4 percentage points of apparel revenue growth. Higher ASP was primarily due to higher full-price ASP and growth in the size of our NIKE Direct business, partially offset by lower NIKE Direct ASP, reflecting higher promotional activity.\\n\\nNIKE Direct revenues increased 14% from $18.7 billion in fiscal 2022 to $21.3 billion in fiscal 2023. On a currency-neutral basis, NIKE Direct revenues increased 20% primarily driven by NIKE Brand Digital sales growth of 24%, comparable store sales growth of 14% and the addition of new stores. For further information regarding comparable store sales, including the definition, see \"Comparable Store Sales\". NIKE Brand Digital sales were $12.6 billion for fiscal 2023 compared to $10.7 billion for fiscal 2022.\\n\\n2023 FORM 10-K 33\\n\\nTable of Contents\\n\\nGROSS MARGIN FISCAL 2023 COMPARED TO FISCAL 2022\\n\\nFor fiscal 2023, our consolidated gross profit increased 4% to $22,292 million compared to $21,479 million for fiscal 2022. Gross margin decreased 250 basis points to 43.5% for fiscal 2023 compared to 46.0% for fiscal 2022 due to the following:\\n\\nWholesale equivalent\\n\\nThe decrease in gross margin for fiscal 2023 was primarily due to:'},\n",
              " {'id': 'doc:redisvl:54410744e9c34864bac298a86308bad9',\n",
              "  'vector_distance': '0.368923246861',\n",
              "  'label': 'ID-219',\n",
              "  'content': 'BASIS OF CONSOLIDATION\\n\\nThe Consolidated Financial Statements include the accounts of NIKE, Inc. and its subsidiaries (the \"Company\" or \"NIKE\"). All significant intercompany transactions and balances have been eliminated.\\n\\nREVENUE RECOGNITION\\n\\nRevenue transactions associated with the sale of NIKE Brand footwear, apparel and equipment, as well as Converse products, comprise a single performance obligation, which consists of the sale of products to customers either through wholesale or direct to consumer channels. The Company satisfies the performance obligation and records revenues when transfer of control to the customer has occurred, based on the terms of sale. A customer is considered to have control once they are able to direct the use and receive substantially all of the benefits of the product.'}]"
            ]
          },
          "execution_count": 24,
          "metadata": {},
          "output_type": "execute_result"
        }
      ],
      "source": [
        "# execute the query with RedisVL\n",
        "index.query(vector_query)"
      ]
    },
    {
      "cell_type": "code",
      "execution_count": null,
      "metadata": {},
      "outputs": [],
      "source": [
        "# paginate through results\n",
        "for result in index.paginate(vector_query, page_size=1):\n",
        "    print(result[\"label\"], result[\"vector_distance\"], flush=True)"
      ]
    },
    {
      "cell_type": "markdown",
      "metadata": {},
      "source": [
        "### Sort by alternative fields"
      ]
    },
    {
      "cell_type": "code",
      "execution_count": 27,
      "metadata": {
        "colab": {
          "base_uri": "https://localhost:8080/"
        },
        "id": "daLVm6OkLn9T",
        "outputId": "9e72acc1-45bf-4974-976c-8ad20bd4d2c2"
      },
      "outputs": [
        {
          "data": {
            "text/plain": [
              "[{'id': 'doc:redisvl:9f2f26f97d674466bf32c058973adc96',\n",
              "  'payload': None,\n",
              "  'vector_distance': '0.362202882767',\n",
              "  'label': 'ID-145',\n",
              "  'content': 'NIKE Brand apparel revenues increased 8% on a currency-neutral basis, primarily due to higher revenues in Men\\'s. Unit sales of apparel increased 4%, while higher ASP per unit contributed approximately 4 percentage points of apparel revenue growth. Higher ASP was primarily due to higher full-price ASP and growth in the size of our NIKE Direct business, partially offset by lower NIKE Direct ASP, reflecting higher promotional activity.\\n\\nNIKE Direct revenues increased 14% from $18.7 billion in fiscal 2022 to $21.3 billion in fiscal 2023. On a currency-neutral basis, NIKE Direct revenues increased 20% primarily driven by NIKE Brand Digital sales growth of 24%, comparable store sales growth of 14% and the addition of new stores. For further information regarding comparable store sales, including the definition, see \"Comparable Store Sales\". NIKE Brand Digital sales were $12.6 billion for fiscal 2023 compared to $10.7 billion for fiscal 2022.\\n\\n2023 FORM 10-K 33\\n\\nTable of Contents\\n\\nGROSS MARGIN FISCAL 2023 COMPARED TO FISCAL 2022\\n\\nFor fiscal 2023, our consolidated gross profit increased 4% to $22,292 million compared to $21,479 million for fiscal 2022. Gross margin decreased 250 basis points to 43.5% for fiscal 2023 compared to 46.0% for fiscal 2022 due to the following:\\n\\nWholesale equivalent\\n\\nThe decrease in gross margin for fiscal 2023 was primarily due to:'},\n",
              " {'id': 'doc:redisvl:faf74f986a86418fb1be5d46dd5d3707',\n",
              "  'payload': None,\n",
              "  'vector_distance': '0.354781925678',\n",
              "  'label': 'ID-150',\n",
              "  'content': '2023 FORM 10-K 35\\n\\nTable of Contents\\n\\nOPERATING SEGMENTS\\n\\nAs discussed in Note 15 — Operating Segments and Related Information in the accompanying Notes to the Consolidated Financial Statements, our operating segments are evidence of the structure of the Company\\'s internal organization. The NIKE Brand segments are defined by geographic regions for operations participating in NIKE Brand sales activity.\\n\\nThe breakdown of Revenues is as follows:\\n\\n(Dollars in millions)\\n\\nFISCAL 2023 FISCAL 2022\\n\\n% CHANGE\\n\\n% CHANGE EXCLUDING CURRENCY (1) CHANGES FISCAL 2021\\n\\n% CHANGE\\n\\nNorth America Europe, Middle East & Africa Greater China\\n\\n$\\n\\n21,608 $ 13,418 7,248\\n\\n18,353 12,479 7,547\\n\\n18 % 8 % -4 %\\n\\n18 % $ 21 % 4 %\\n\\n17,179 11,456 8,290\\n\\n7 % 9 % -9 %\\n\\nAsia Pacific & Latin America Global Brand Divisions\\n\\n(3)\\n\\n(2)\\n\\n6,431 58\\n\\n5,955 102\\n\\n8 % -43 %\\n\\n17 % -43 %\\n\\n5,343 25\\n\\n11 % 308 %\\n\\nTOTAL NIKE BRAND Converse\\n\\n$\\n\\n48,763 $ 2,427\\n\\n44,436 2,346\\n\\n10 % 3 %\\n\\n16 % $ 8 %\\n\\n42,293 2,205\\n\\n5 % 6 %\\n\\n(4)\\n\\nCorporate TOTAL NIKE, INC. REVENUES\\n\\n$\\n\\n27\\n\\n51,217 $\\n\\n(72) 46,710\\n\\n— 10 %\\n\\n— 16 % $\\n\\n40 44,538\\n\\n— 5 %\\n\\n(1) The percent change excluding currency changes represents a non-GAAP financial measure. For further information, see \"Use of Non-GAAP Financial Measures\".\\n\\n(2) For additional information on the transition of our NIKE Brand businesses within our CASA territory to a third-party distributor, see Note 18 — Acquisitions and Divestitures of the Notes to Consolidated'},\n",
              " {'id': 'doc:redisvl:1e709473af2b485f992860bfe4f4fb60',\n",
              "  'payload': None,\n",
              "  'vector_distance': '0.360561609268',\n",
              "  'label': 'ID-151',\n",
              "  'content': 'Financial Statements contained in Item 8 of this Annual Report.\\n\\n(3) Global Brand Divisions revenues include NIKE Brand licensing and other miscellaneous revenues that are not part of a geographic operating segment.\\n\\n(4) Corporate revenues primarily consist of foreign currency hedge gains and losses related to revenues generated by entities within the NIKE Brand geographic operating segments and Converse, but\\n\\nmanaged through our central foreign exchange risk management program.\\n\\nThe primary financial measure used by the Company to evaluate performance is Earnings Before Interest and Taxes (\"EBIT\"). As discussed in Note 15 — Operating Segments and Related Information in the accompanying Notes to the Consolidated Financial Statements, certain corporate costs are not included in EBIT.\\n\\nThe breakdown of EBIT is as follows:\\n\\n(Dollars in millions)\\n\\nFISCAL 2023\\n\\nFISCAL 2022\\n\\n% CHANGE\\n\\nFISCAL 2021\\n\\nNorth America Europe, Middle East & Africa Greater China\\n\\n$\\n\\n5,454 3,531 2,283\\n\\n$\\n\\n5,114 3,293 2,365\\n\\n7 % $ 7 % -3 %\\n\\n5,089 2,435 3,243\\n\\nAsia Pacific & Latin America Global Brand Divisions (1)\\n\\nTOTAL NIKE BRAND Converse\\n\\n$\\n\\n1,932 (4,841)\\n\\n8,359 676\\n\\n$\\n\\n1,896 (4,262)\\n\\n8,406 669\\n\\n2 % -14 %\\n\\n1 % $ 1 %\\n\\n1,530 (3,656)\\n\\n8,641 543\\n\\nCorporate TOTAL NIKE, INC. EARNINGS BEFORE INTEREST AND TAXES\\n\\n(1)\\n\\n$\\n\\n(2,840)\\n\\n6,195\\n\\n$\\n\\n(2,219)\\n\\n6,856\\n\\n28 %\\n\\n10 % $\\n\\n(2,261)\\n\\n6,923\\n\\nEBIT margin\\n\\n(1)\\n\\n12.1 %\\n\\n14.7 %\\n\\n15.5 %\\n\\nInterest expense (income), net\\n\\n(6)\\n\\n205\\n\\n—\\n\\n262'},\n",
              " {'id': 'doc:redisvl:54410744e9c34864bac298a86308bad9',\n",
              "  'payload': None,\n",
              "  'vector_distance': '0.368923246861',\n",
              "  'label': 'ID-219',\n",
              "  'content': 'BASIS OF CONSOLIDATION\\n\\nThe Consolidated Financial Statements include the accounts of NIKE, Inc. and its subsidiaries (the \"Company\" or \"NIKE\"). All significant intercompany transactions and balances have been eliminated.\\n\\nREVENUE RECOGNITION\\n\\nRevenue transactions associated with the sale of NIKE Brand footwear, apparel and equipment, as well as Converse products, comprise a single performance obligation, which consists of the sale of products to customers either through wholesale or direct to consumer channels. The Company satisfies the performance obligation and records revenues when transfer of control to the customer has occurred, based on the terms of sale. A customer is considered to have control once they are able to direct the use and receive substantially all of the benefits of the product.'}]"
            ]
          },
          "execution_count": 27,
          "metadata": {},
          "output_type": "execute_result"
        }
      ],
      "source": [
        "# Sort by field other than vector score\n",
        "result = index.search(vector_query.query.sort_by(\"label\", asc=True), vector_query.params)\n",
        "\n",
        "[doc.__dict__ for doc in result.docs]"
      ]
    },
    {
      "cell_type": "markdown",
      "metadata": {},
      "source": [
        "### Add filters to vector queries"
      ]
    },
    {
      "cell_type": "code",
      "execution_count": 28,
      "metadata": {
        "colab": {
          "base_uri": "https://localhost:8080/"
        },
        "id": "a11G3xXJ1ujC",
        "outputId": "f212780c-d569-440a-9f50-f13cc23f7af9"
      },
      "outputs": [
        {
          "data": {
            "text/plain": [
              "[{'id': 'doc:redisvl:9f2f26f97d674466bf32c058973adc96',\n",
              "  'vector_distance': '0.362202882767',\n",
              "  'label': 'ID-145',\n",
              "  'content': 'NIKE Brand apparel revenues increased 8% on a currency-neutral basis, primarily due to higher revenues in Men\\'s. Unit sales of apparel increased 4%, while higher ASP per unit contributed approximately 4 percentage points of apparel revenue growth. Higher ASP was primarily due to higher full-price ASP and growth in the size of our NIKE Direct business, partially offset by lower NIKE Direct ASP, reflecting higher promotional activity.\\n\\nNIKE Direct revenues increased 14% from $18.7 billion in fiscal 2022 to $21.3 billion in fiscal 2023. On a currency-neutral basis, NIKE Direct revenues increased 20% primarily driven by NIKE Brand Digital sales growth of 24%, comparable store sales growth of 14% and the addition of new stores. For further information regarding comparable store sales, including the definition, see \"Comparable Store Sales\". NIKE Brand Digital sales were $12.6 billion for fiscal 2023 compared to $10.7 billion for fiscal 2022.\\n\\n2023 FORM 10-K 33\\n\\nTable of Contents\\n\\nGROSS MARGIN FISCAL 2023 COMPARED TO FISCAL 2022\\n\\nFor fiscal 2023, our consolidated gross profit increased 4% to $22,292 million compared to $21,479 million for fiscal 2022. Gross margin decreased 250 basis points to 43.5% for fiscal 2023 compared to 46.0% for fiscal 2022 due to the following:\\n\\nWholesale equivalent\\n\\nThe decrease in gross margin for fiscal 2023 was primarily due to:'},\n",
              " {'id': 'doc:redisvl:96d1a6a4903d4ee38735075e9c13d427',\n",
              "  'vector_distance': '0.389455080032',\n",
              "  'label': 'ID-140',\n",
              "  'content': 'COMPARABLE STORE SALES Comparable store sales: This key metric, which excludes NIKE Brand Digital sales, comprises revenues from NIKE-owned in-line and factory stores for which all three of the following requirements have been met: (1) the store has been open at least one year, (2) square footage has not changed by more than 15% within the past year and (3) the store has not been permanently repositioned within the past year. Comparable store sales includes revenues from stores that were temporarily closed during the period as a result of COVID-19. Comparable store sales represents a performance metric that we believe is useful information for management and investors in understanding the performance of our established NIKE-owned in-line and factory stores. Management considers this metric when making financial and operating decisions. The method of calculating comparable store sales varies across the retail industry. As a result, our calculation of this metric may not be comparable to similarly titled metrics used by other companies.\\n\\n2023 FORM 10-K 30\\n\\nTable of Contents\\n\\nRESULTS OF OPERATIONS\\n\\n(Dollars in millions, except per share data)\\n\\nRevenues Cost of sales\\n\\nGross profit Gross margin\\n\\nDemand creation expense Operating overhead expense\\n\\nTotal selling and administrative expense % of revenues\\n\\nInterest expense (income), net\\n\\nOther (income) expense, net Income before income taxes\\n\\nIncome tax expense Effective tax rate\\n\\nNET INCOME Diluted earnings per common share\\n\\n$\\n\\n$ $'},\n",
              " {'id': 'doc:redisvl:12667c1cc22a45a99d9ec2eea5d05532',\n",
              "  'vector_distance': '0.711834192276',\n",
              "  'label': 'ID-69',\n",
              "  'content': 'Our success depends on our ability to identify, originate and define product trends as well as to anticipate, gauge and react to changing consumer demands in a timely manner. However, lead times for many of our products may make it more difficult for us to respond rapidly to new or changing product trends or consumer preferences. All of our products are subject to changing consumer preferences that cannot be predicted with certainty. Our new products may not receive consumer acceptance as consumer preferences could shift rapidly to different types of performance products or away from these types of products altogether, and our future success depends in part on our ability to anticipate and respond to these changes. If we fail to anticipate accurately and respond to trends and shifts in consumer preferences by adjusting the mix of existing product offerings, developing new products, designs, styles and categories, and influencing sports and fitness preferences through extensive marketing, we could experience lower sales, excess inventories or lower profit margins, any of which could have an adverse effect on our results of operations and financial condition. In addition, we market our products globally through a diverse spectrum of advertising and promotional programs and campaigns, including social media and other digital advertising networks. If we do not successfully market our products or if advertising and promotional costs increase, these factors could have an adverse'},\n",
              " {'id': 'doc:redisvl:de0aea034f6749ea924802125742c6e2',\n",
              "  'vector_distance': '0.748109459877',\n",
              "  'label': 'ID-268',\n",
              "  'content': 'Basic Diluted\\n\\n$ $\\n\\n3.27 $ 3.23 $\\n\\n3.83 $ 3.75 $\\n\\n3.64 3.56\\n\\nNOTE 11 — BENEFIT PLANS\\n\\nThe Company has a qualified 401(k) Savings and Profit Sharing Plan, in which all U.S. employees are able to participate. The Company matches a portion of employee contributions to the savings plan. Company contributions to the savings plan were $136 million, $126 million and $110 million and included in Cost of sales or Operating overhead expense, as applicable, for the fiscal years ended May 31, 2023, 2022 and 2021, respectively.\\n\\nThe Company also has a Long-Term Incentive Plan (\"LTIP\") adopted by the Board of Directors and approved by shareholders in September 1997, which has been amended from time to time. The Company recognized an immaterial amount of Operating overhead expense related to cash awards under the LTIP during the years ended May 31, 2023, 2022 and 2021. During the fiscal years ended May 31, 2023 and 2022, under the Stock Incentive Plan, the Company granted PSUs which replaced cash-based long-term incentive awards historically granted under the Company\\'s LTIP. Refer to Note 9 — Common Stock and Stock-Based Compensation for further information related to PSUs.'}]"
            ]
          },
          "execution_count": 28,
          "metadata": {},
          "output_type": "execute_result"
        }
      ],
      "source": [
        "from redisvl.query.filter import Text\n",
        "\n",
        "# set the text filter\n",
        "text_filter = Text(\"content\") % \"profit\"\n",
        "\n",
        "vector_query.set_filter(text_filter)\n",
        "\n",
        "index.query(vector_query)"
      ]
    },
    {
      "cell_type": "code",
      "execution_count": 29,
      "metadata": {
        "colab": {
          "base_uri": "https://localhost:8080/",
          "height": 35
        },
        "id": "BTUiaIV81ujC",
        "outputId": "b102f0e4-ea19-4019-ed23-75008b3d0711"
      },
      "outputs": [
        {
          "data": {
            "application/vnd.google.colaboratory.intrinsic+json": {
              "type": "string"
            },
            "text/plain": [
              "'@content:(profit) RETURN 1 content DIALECT 2 LIMIT 0 4'"
            ]
          },
          "execution_count": 29,
          "metadata": {},
          "output_type": "execute_result"
        }
      ],
      "source": [
        "from redisvl.query import FilterQuery\n",
        "\n",
        "# Perform a standalone lexical search\n",
        "filter_query = FilterQuery(return_fields=[\"content\"], filter_expression=text_filter, num_results=4)\n",
        "\n",
        "# inspect raw redis query\n",
        "str(filter_query)"
      ]
    },
    {
      "cell_type": "code",
      "execution_count": 30,
      "metadata": {
        "colab": {
          "base_uri": "https://localhost:8080/"
        },
        "id": "9kc37JPD1ujC",
        "outputId": "45609191-5fde-464d-e56b-06214db3d966"
      },
      "outputs": [
        {
          "data": {
            "text/plain": [
              "[{'id': 'doc:redisvl:f0fae0b64b964d7383b53936b34502f2',\n",
              "  'content': 'Proposals to reform U.S. and foreign tax laws could significantly impact how U.S. multinational corporations are taxed on global earnings and could increase the U.S. corporate tax rate. For example, the Organization for Economic Co-operation and Development (OECD) and the G20 Inclusive Framework on Base Erosion and Profit Shifting (the \"Inclusive Framework\") has put forth two proposals—Pillar One and Pillar Two—that revise the existing profit allocation and nexus rules and ensure a minimal level of taxation, respectively. On December 12, 2022, the European Union member states agreed to implement the Inclusive Framework\\'s global corporate minimum tax rate of 15%. Other countries are also actively considering changes to their tax laws to adopt certain parts of the Inclusive Framework\\'s proposals. Although we cannot predict whether or in what form these proposals will be enacted into law, these changes, if enacted into law, could have an adverse impact on our effective tax rate, income tax expense and cash flows.'},\n",
              " {'id': 'doc:redisvl:0ee5dc4a36364bb9a72b3cb60eb48404',\n",
              "  'content': 'If we are unable to anticipate consumer preferences and develop new products, we may not be able to maintain or increase our revenues and profits.'},\n",
              " {'id': 'doc:redisvl:ce7a263dae694bcfb368dcfa9c47c527',\n",
              "  'content': 'Risks Related to Our Securities, Investments and Liquidity\\n\\nOur financial results may be adversely affected if substantial investments in businesses and operations fail to produce expected returns.\\n\\nFrom time to time, we may invest in technology, business infrastructure, new businesses or capabilities, product offering and manufacturing innovation and expansion of existing businesses, such as our NIKE Direct operations, which require substantial cash investments and management attention. We believe cost-effective investments are essential to business growth and profitability; however, significant investments are subject to typical risks and uncertainties inherent in developing a new business or expanding an existing business. The failure of any significant investment to provide expected returns or profitability could have a material adverse effect on our financial results and divert management attention from more profitable business operations. See also \"Our NIKE Direct operations have required and will continue to require a substantial investment and commitment of resources and are subject to numerous risks and uncertainties.\"\\n\\nThe sale of a large number of shares of common stock by our principal shareholder could depress the market price of our common stock.'},\n",
              " {'id': 'doc:redisvl:6eb3f36d1f374797b5ad3c4d43a30841',\n",
              "  'content': '2023 FORM 10-K 1\\n\\nTable of Contents\\n\\nWe also offer interactive consumer services and experiences as well as digital products through our digital platforms, including fitness and activity apps; sport, fitness and wellness content; and digital services and features in retail stores that enhance the consumer experience.\\n\\nSALES AND MARKETING\\n\\nWe experience moderate fluctuations in aggregate sales volume during the year. Historically, revenues in the first and fourth fiscal quarters have slightly exceeded those in the second and third fiscal quarters. However, the mix of product sales may vary considerably as a result of changes in seasonal and geographic demand for particular types of footwear, apparel and equipment, as well as other macroeconomic, strategic, operating and logistics-related factors.\\n\\nBecause NIKE is a consumer products company, the relative popularity and availability of various sports and fitness activities, as well as changing design trends, affect the demand for our products. We must, therefore, respond to trends and shifts in consumer preferences by adjusting the mix of existing product offerings, developing new products, styles and categories and influencing sports and fitness preferences through extensive marketing. Failure to respond in a timely and adequate manner could have a material adverse effect on our sales and profitability. This is a continuing risk. Refer to Item 1A. Risk Factors.\\n\\nOUR MARKETS'}]"
            ]
          },
          "execution_count": 30,
          "metadata": {},
          "output_type": "execute_result"
        }
      ],
      "source": [
        "index.query(filter_query)"
      ]
    },
    {
      "cell_type": "markdown",
      "metadata": {},
      "source": [
        "### Range queries in RedisVL"
      ]
    },
    {
      "cell_type": "code",
      "execution_count": 31,
      "metadata": {
        "colab": {
          "base_uri": "https://localhost:8080/",
          "height": 35
        },
        "id": "bCffoZRx1ujD",
        "outputId": "190077f2-ccf3-4d7f-9ddf-97143fb6ccea"
      },
      "outputs": [
        {
          "data": {
            "application/vnd.google.colaboratory.intrinsic+json": {
              "type": "string"
            },
            "text/plain": [
              "'@chunk_vector:[VECTOR_RANGE $distance_threshold $vector]=>{$yield_distance_as: vector_distance} RETURN 2 content vector_distance SORTBY vector_distance ASC DIALECT 2 LIMIT 0 4'"
            ]
          },
          "execution_count": 31,
          "metadata": {},
          "output_type": "execute_result"
        }
      ],
      "source": [
        "from redisvl.query import RangeQuery\n",
        "\n",
        "range_query = RangeQuery(\n",
        "    vector=hf.embed(query),\n",
        "    vector_field_name=\"chunk_vector\",\n",
        "    num_results=4,\n",
        "    return_fields=[\"content\"],\n",
        "    return_score=True,\n",
        "    distance_threshold=0.5  # find all items with a semantic distance of less than 0.5\n",
        ")\n",
        "\n",
        "\n",
        "# inspect query\n",
        "str(range_query)"
      ]
    },
    {
      "cell_type": "code",
      "execution_count": 32,
      "metadata": {
        "colab": {
          "base_uri": "https://localhost:8080/"
        },
        "id": "0gHmam1Q1ujD",
        "outputId": "ffd858c8-5546-4e92-9975-dbc00903e4ac"
      },
      "outputs": [
        {
          "data": {
            "text/plain": [
              "[{'id': 'doc:redisvl:faf74f986a86418fb1be5d46dd5d3707',\n",
              "  'vector_distance': '0.354781925678',\n",
              "  'content': '2023 FORM 10-K 35\\n\\nTable of Contents\\n\\nOPERATING SEGMENTS\\n\\nAs discussed in Note 15 — Operating Segments and Related Information in the accompanying Notes to the Consolidated Financial Statements, our operating segments are evidence of the structure of the Company\\'s internal organization. The NIKE Brand segments are defined by geographic regions for operations participating in NIKE Brand sales activity.\\n\\nThe breakdown of Revenues is as follows:\\n\\n(Dollars in millions)\\n\\nFISCAL 2023 FISCAL 2022\\n\\n% CHANGE\\n\\n% CHANGE EXCLUDING CURRENCY (1) CHANGES FISCAL 2021\\n\\n% CHANGE\\n\\nNorth America Europe, Middle East & Africa Greater China\\n\\n$\\n\\n21,608 $ 13,418 7,248\\n\\n18,353 12,479 7,547\\n\\n18 % 8 % -4 %\\n\\n18 % $ 21 % 4 %\\n\\n17,179 11,456 8,290\\n\\n7 % 9 % -9 %\\n\\nAsia Pacific & Latin America Global Brand Divisions\\n\\n(3)\\n\\n(2)\\n\\n6,431 58\\n\\n5,955 102\\n\\n8 % -43 %\\n\\n17 % -43 %\\n\\n5,343 25\\n\\n11 % 308 %\\n\\nTOTAL NIKE BRAND Converse\\n\\n$\\n\\n48,763 $ 2,427\\n\\n44,436 2,346\\n\\n10 % 3 %\\n\\n16 % $ 8 %\\n\\n42,293 2,205\\n\\n5 % 6 %\\n\\n(4)\\n\\nCorporate TOTAL NIKE, INC. REVENUES\\n\\n$\\n\\n27\\n\\n51,217 $\\n\\n(72) 46,710\\n\\n— 10 %\\n\\n— 16 % $\\n\\n40 44,538\\n\\n— 5 %\\n\\n(1) The percent change excluding currency changes represents a non-GAAP financial measure. For further information, see \"Use of Non-GAAP Financial Measures\".\\n\\n(2) For additional information on the transition of our NIKE Brand businesses within our CASA territory to a third-party distributor, see Note 18 — Acquisitions and Divestitures of the Notes to Consolidated'},\n",
              " {'id': 'doc:redisvl:1e709473af2b485f992860bfe4f4fb60',\n",
              "  'vector_distance': '0.360561609268',\n",
              "  'content': 'Financial Statements contained in Item 8 of this Annual Report.\\n\\n(3) Global Brand Divisions revenues include NIKE Brand licensing and other miscellaneous revenues that are not part of a geographic operating segment.\\n\\n(4) Corporate revenues primarily consist of foreign currency hedge gains and losses related to revenues generated by entities within the NIKE Brand geographic operating segments and Converse, but\\n\\nmanaged through our central foreign exchange risk management program.\\n\\nThe primary financial measure used by the Company to evaluate performance is Earnings Before Interest and Taxes (\"EBIT\"). As discussed in Note 15 — Operating Segments and Related Information in the accompanying Notes to the Consolidated Financial Statements, certain corporate costs are not included in EBIT.\\n\\nThe breakdown of EBIT is as follows:\\n\\n(Dollars in millions)\\n\\nFISCAL 2023\\n\\nFISCAL 2022\\n\\n% CHANGE\\n\\nFISCAL 2021\\n\\nNorth America Europe, Middle East & Africa Greater China\\n\\n$\\n\\n5,454 3,531 2,283\\n\\n$\\n\\n5,114 3,293 2,365\\n\\n7 % $ 7 % -3 %\\n\\n5,089 2,435 3,243\\n\\nAsia Pacific & Latin America Global Brand Divisions (1)\\n\\nTOTAL NIKE BRAND Converse\\n\\n$\\n\\n1,932 (4,841)\\n\\n8,359 676\\n\\n$\\n\\n1,896 (4,262)\\n\\n8,406 669\\n\\n2 % -14 %\\n\\n1 % $ 1 %\\n\\n1,530 (3,656)\\n\\n8,641 543\\n\\nCorporate TOTAL NIKE, INC. EARNINGS BEFORE INTEREST AND TAXES\\n\\n(1)\\n\\n$\\n\\n(2,840)\\n\\n6,195\\n\\n$\\n\\n(2,219)\\n\\n6,856\\n\\n28 %\\n\\n10 % $\\n\\n(2,261)\\n\\n6,923\\n\\nEBIT margin\\n\\n(1)\\n\\n12.1 %\\n\\n14.7 %\\n\\n15.5 %\\n\\nInterest expense (income), net\\n\\n(6)\\n\\n205\\n\\n—\\n\\n262'},\n",
              " {'id': 'doc:redisvl:9f2f26f97d674466bf32c058973adc96',\n",
              "  'vector_distance': '0.362202882767',\n",
              "  'content': 'NIKE Brand apparel revenues increased 8% on a currency-neutral basis, primarily due to higher revenues in Men\\'s. Unit sales of apparel increased 4%, while higher ASP per unit contributed approximately 4 percentage points of apparel revenue growth. Higher ASP was primarily due to higher full-price ASP and growth in the size of our NIKE Direct business, partially offset by lower NIKE Direct ASP, reflecting higher promotional activity.\\n\\nNIKE Direct revenues increased 14% from $18.7 billion in fiscal 2022 to $21.3 billion in fiscal 2023. On a currency-neutral basis, NIKE Direct revenues increased 20% primarily driven by NIKE Brand Digital sales growth of 24%, comparable store sales growth of 14% and the addition of new stores. For further information regarding comparable store sales, including the definition, see \"Comparable Store Sales\". NIKE Brand Digital sales were $12.6 billion for fiscal 2023 compared to $10.7 billion for fiscal 2022.\\n\\n2023 FORM 10-K 33\\n\\nTable of Contents\\n\\nGROSS MARGIN FISCAL 2023 COMPARED TO FISCAL 2022\\n\\nFor fiscal 2023, our consolidated gross profit increased 4% to $22,292 million compared to $21,479 million for fiscal 2022. Gross margin decreased 250 basis points to 43.5% for fiscal 2023 compared to 46.0% for fiscal 2022 due to the following:\\n\\nWholesale equivalent\\n\\nThe decrease in gross margin for fiscal 2023 was primarily due to:'},\n",
              " {'id': 'doc:redisvl:54410744e9c34864bac298a86308bad9',\n",
              "  'vector_distance': '0.368923246861',\n",
              "  'content': 'BASIS OF CONSOLIDATION\\n\\nThe Consolidated Financial Statements include the accounts of NIKE, Inc. and its subsidiaries (the \"Company\" or \"NIKE\"). All significant intercompany transactions and balances have been eliminated.\\n\\nREVENUE RECOGNITION\\n\\nRevenue transactions associated with the sale of NIKE Brand footwear, apparel and equipment, as well as Converse products, comprise a single performance obligation, which consists of the sale of products to customers either through wholesale or direct to consumer channels. The Company satisfies the performance obligation and records revenues when transfer of control to the customer has occurred, based on the terms of sale. A customer is considered to have control once they are able to direct the use and receive substantially all of the benefits of the product.'}]"
            ]
          },
          "execution_count": 32,
          "metadata": {},
          "output_type": "execute_result"
        }
      ],
      "source": [
        "index.query(range_query)"
      ]
    },
    {
      "cell_type": "code",
      "execution_count": 33,
      "metadata": {
        "colab": {
          "base_uri": "https://localhost:8080/"
        },
        "id": "YZg4U21r1ujD",
        "outputId": "f919d42a-9e0d-4643-9508-dfb47ff03b9f"
      },
      "outputs": [
        {
          "data": {
            "text/plain": [
              "[{'id': 'doc:redisvl:9f2f26f97d674466bf32c058973adc96',\n",
              "  'vector_distance': '0.362202882767',\n",
              "  'content': 'NIKE Brand apparel revenues increased 8% on a currency-neutral basis, primarily due to higher revenues in Men\\'s. Unit sales of apparel increased 4%, while higher ASP per unit contributed approximately 4 percentage points of apparel revenue growth. Higher ASP was primarily due to higher full-price ASP and growth in the size of our NIKE Direct business, partially offset by lower NIKE Direct ASP, reflecting higher promotional activity.\\n\\nNIKE Direct revenues increased 14% from $18.7 billion in fiscal 2022 to $21.3 billion in fiscal 2023. On a currency-neutral basis, NIKE Direct revenues increased 20% primarily driven by NIKE Brand Digital sales growth of 24%, comparable store sales growth of 14% and the addition of new stores. For further information regarding comparable store sales, including the definition, see \"Comparable Store Sales\". NIKE Brand Digital sales were $12.6 billion for fiscal 2023 compared to $10.7 billion for fiscal 2022.\\n\\n2023 FORM 10-K 33\\n\\nTable of Contents\\n\\nGROSS MARGIN FISCAL 2023 COMPARED TO FISCAL 2022\\n\\nFor fiscal 2023, our consolidated gross profit increased 4% to $22,292 million compared to $21,479 million for fiscal 2022. Gross margin decreased 250 basis points to 43.5% for fiscal 2023 compared to 46.0% for fiscal 2022 due to the following:\\n\\nWholesale equivalent\\n\\nThe decrease in gross margin for fiscal 2023 was primarily due to:'},\n",
              " {'id': 'doc:redisvl:96d1a6a4903d4ee38735075e9c13d427',\n",
              "  'vector_distance': '0.389455080032',\n",
              "  'content': 'COMPARABLE STORE SALES Comparable store sales: This key metric, which excludes NIKE Brand Digital sales, comprises revenues from NIKE-owned in-line and factory stores for which all three of the following requirements have been met: (1) the store has been open at least one year, (2) square footage has not changed by more than 15% within the past year and (3) the store has not been permanently repositioned within the past year. Comparable store sales includes revenues from stores that were temporarily closed during the period as a result of COVID-19. Comparable store sales represents a performance metric that we believe is useful information for management and investors in understanding the performance of our established NIKE-owned in-line and factory stores. Management considers this metric when making financial and operating decisions. The method of calculating comparable store sales varies across the retail industry. As a result, our calculation of this metric may not be comparable to similarly titled metrics used by other companies.\\n\\n2023 FORM 10-K 30\\n\\nTable of Contents\\n\\nRESULTS OF OPERATIONS\\n\\n(Dollars in millions, except per share data)\\n\\nRevenues Cost of sales\\n\\nGross profit Gross margin\\n\\nDemand creation expense Operating overhead expense\\n\\nTotal selling and administrative expense % of revenues\\n\\nInterest expense (income), net\\n\\nOther (income) expense, net Income before income taxes\\n\\nIncome tax expense Effective tax rate\\n\\nNET INCOME Diluted earnings per common share\\n\\n$\\n\\n$ $'},\n",
              " {'id': 'doc:redisvl:6a91a694c0244bed99cc47bb428958b6',\n",
              "  'vector_distance': '0.444285392761',\n",
              "  'content': '2023 FORM 10-K 26\\n\\nTable of Contents\\n\\nITEM 6. [RESERVED]\\n\\n2023 FORM 10-K 27\\n\\nTable of Contents\\n\\nITEM 7. MANAGEMENT\\'S DISCUSSION AND ANALYSIS OF FINANCIAL CONDITION AND RESULTS OF OPERATIONS\\n\\nOVERVIEW\\n\\nNIKE designs, develops, markets and sells athletic footwear, apparel, equipment, accessories and services worldwide. We are the largest seller of athletic footwear and apparel in the world. We sell our products through NIKE Direct operations, which is comprised of both NIKE-owned retail stores and sales through our digital platforms (also referred to as \"NIKE Brand Digital\"), to wholesale accounts and to a mix of independent distributors, licensees and sales representatives in nearly all countries around the world. Our goal is to deliver value to our shareholders by building a profitable global portfolio of branded footwear, apparel, equipment and accessories businesses. Our strategy is to achieve long-term revenue growth by creating innovative, \"must-have\" products, building deep personal consumer connections with our brands and delivering compelling consumer experiences through digital platforms and at retail.'},\n",
              " {'id': 'doc:redisvl:e2c01c9802ba48d9ba8e519039d06269',\n",
              "  'vector_distance': '0.483114302158',\n",
              "  'content': 'In recent years, uncertain global and regional economic and political conditions have affected international trade and increased protectionist actions around the world. These trends are affecting many global manufacturing and service sectors, and the footwear and apparel industries, as a whole, are not immune. Companies in our industry are facing trade protectionism in many different regions, and, in nearly all cases, we are working together with industry groups to address trade issues and reduce the impact to the industry, while observing applicable competition laws. Notwithstanding our efforts, protectionist measures have resulted in increases in the cost of our products, and additional measures, if implemented, could adversely affect sales and/or profitability for NIKE, as well as the imported footwear and apparel industry as a whole.'}]"
            ]
          },
          "execution_count": 33,
          "metadata": {},
          "output_type": "execute_result"
        }
      ],
      "source": [
        "# Add filter to range query\n",
        "range_query.set_filter(text_filter)\n",
        "\n",
        "index.query(range_query)"
      ]
    },
    {
      "cell_type": "markdown",
      "metadata": {},
      "source": [
        "## Building a RAG Pipeline with RedisVL"
      ]
    },
    {
      "cell_type": "markdown",
      "metadata": {},
      "source": [
        "### Use AsyncSearchIndex"
      ]
    },
    {
      "cell_type": "code",
      "execution_count": null,
      "metadata": {},
      "outputs": [],
      "source": [
        "from redis.asyncio import Redis\n",
        "from redisvl.index import AsyncSearchIndex\n",
        "\n",
        "client = Redis.from_url(REDIS_URL)\n",
        "index = AsyncSearchIndex(index.schema, client)"
      ]
    },
    {
      "cell_type": "markdown",
      "metadata": {},
      "source": [
        "### Prep OpenAI Helpers & Prompts"
      ]
    },
    {
      "cell_type": "code",
      "execution_count": null,
      "metadata": {},
      "outputs": [],
      "source": [
        "import openai\n",
        "\n",
        "\n",
        "CHAT_MODEL = \"gpt-3.5-turbo\"\n",
        "\n",
        "\n",
        "SYSTEM_PROMPT = \"\"\"You are a helpful financial analyst assistant that has access\n",
        "to public financial 10k documents in order to answer users questions about company\n",
        "performance, ethics, characteristics, and core information.\n",
        "\"\"\"\n",
        "\n",
        "\n",
        "async def answer_question(index: AsyncSearchIndex, query: str):\n",
        "    \"\"\"Answer the user's question\"\"\"\n",
        "    query_vector = hf.embed(query)\n",
        "    context = await retrieve_context(index, query_vector)\n",
        "    response = await openai.ChatCompletion.acreate(\n",
        "        model=CHAT_MODEL,\n",
        "        messages=[\n",
        "            {\"role\": \"system\", \"content\": SYSTEM_PROMPT},\n",
        "            {\"role\": \"user\", \"content\": promptify(query, context)}\n",
        "        ],\n",
        "        max_tokens=100\n",
        "    )\n",
        "\n",
        "    # Response provided by GPT-3.5\n",
        "    return response['choices'][0]['message']['content']\n",
        "\n",
        "\n",
        "async def retrieve_context(index: AsyncSearchIndex, query_vector) -> str:\n",
        "    \"\"\"Fetch the relevant context from Redis using vector search\"\"\"\n",
        "    results = await index.query(\n",
        "        VectorQuery(\n",
        "            vector=query_vector,\n",
        "            vector_field_name=\"chunk_vector\",\n",
        "            return_fields=[\"content\"],\n",
        "            num_results=3\n",
        "        )\n",
        "    )\n",
        "    content = \"\\n\".join([result[\"content\"] for result in results]) -> str:\n",
        "    return content\n",
        "\n",
        "\n",
        "def promptify(query: str, context: str) -> str:\n",
        "    return f'''Use the provided context below derived from public financial\n",
        "    documents to answer the user's question. If you can't answer the user's\n",
        "    question, based on the context; do not guess. If there is no context at all,\n",
        "    respond with \"I don't know\".\n",
        "\n",
        "    User question:\n",
        "\n",
        "    {query}\n",
        "\n",
        "    Helpful context:\n",
        "\n",
        "    {context}\n",
        "\n",
        "    Answer:\n",
        "    '''"
      ]
    },
    {
      "cell_type": "markdown",
      "metadata": {},
      "source": [
        "### Vanilla RAG"
      ]
    },
    {
      "cell_type": "code",
      "execution_count": null,
      "metadata": {},
      "outputs": [],
      "source": [
        "query = \"What was Nike's revenue last year compared to this year??\"\n",
        "\n",
        "await answer_question(index, query)"
      ]
    },
    {
      "cell_type": "code",
      "execution_count": null,
      "metadata": {},
      "outputs": [],
      "source": [
        "query = \"How many products does Nike offer? What is the industry that Nike is part of?\"\n",
        "\n",
        "await answer_question(index, query)"
      ]
    },
    {
      "cell_type": "code",
      "execution_count": null,
      "metadata": {},
      "outputs": [],
      "source": [
        "query = \"Is Nike an ethical company?\"\n",
        "\n",
        "await answer_question(index, query)"
      ]
    },
    {
      "cell_type": "code",
      "execution_count": null,
      "metadata": {},
      "outputs": [],
      "source": []
    },
    {
      "cell_type": "markdown",
      "metadata": {},
      "source": [
        "### Improve performance and cut costs with LLM caching"
      ]
    },
    {
      "cell_type": "code",
      "execution_count": null,
      "metadata": {},
      "outputs": [],
      "source": [
        "from redisvl.extensions.llmcache import SemanticCache\n",
        "\n",
        "llmcache = SemanticCache(\n",
        "    name=\"llmcache\",\n",
        "    vectorizer=hf,\n",
        "    redis_url=\"redis://localhost:6379\",\n",
        "    ttl=120,\n",
        "    distance_threshold=0.2\n",
        ")"
      ]
    },
    {
      "cell_type": "code",
      "execution_count": null,
      "metadata": {},
      "outputs": [],
      "source": [
        "from functools import wraps\n",
        "\n",
        "\n",
        "def cache(func):\n",
        "    @wraps(func)\n",
        "    async def wrapper(index, query_text, *args, **kwargs):\n",
        "        query_vector = cache._vectorizer.embed(query_text)\n",
        "\n",
        "        # Check the cache with the vector\n",
        "        if result := cache.check(vector=query_vector):\n",
        "            return result[0]['response']\n",
        "\n",
        "        response = await func(index, query_text, query_vector=query_vector)\n",
        "        cache.store(query_text, response, query_vector)\n",
        "        return response\n",
        "    return wrapper\n",
        "\n",
        "@cache\n",
        "async def answer_question(index: AsyncSearchIndex, query_text: str, **kwargs):\n",
        "    \"\"\"Answer the user's question using the query vector and text\"\"\"\n",
        "    context = await retrieve_context(index, kwargs[\"query_vector\"])\n",
        "    response = await openai.ChatCompletion.acreate(\n",
        "        model=CHAT_MODEL,\n",
        "        messages=[\n",
        "            {\"role\": \"system\", \"content\": SYSTEM_PROMPT},\n",
        "            {\"role\": \"user\", \"content\": promptify(query_text, context)}\n",
        "        ],\n",
        "        max_tokens=100\n",
        "    )\n",
        "\n",
        "    # Response provided by GPT-3.5\n",
        "    return response['choices'][0]['message']['content']"
      ]
    },
    {
      "cell_type": "code",
      "execution_count": null,
      "metadata": {},
      "outputs": [],
      "source": [
        "query = \"What was Nike's revenue last year compared to this year??\"\n",
        "\n",
        "await answer_question(index, query)"
      ]
    },
    {
      "cell_type": "code",
      "execution_count": null,
      "metadata": {},
      "outputs": [],
      "source": [
        "query = \"What was Nike's total revenue in the last year compared to now??\"\n",
        "\n",
        "await answer_question(index, query)"
      ]
    },
    {
      "cell_type": "markdown",
      "metadata": {
        "id": "Wscs4Mvo1ujD"
      },
      "source": [
        "## Cleanup\n",
        "\n",
        "Clean up the index."
      ]
    },
    {
      "cell_type": "code",
      "execution_count": null,
      "metadata": {
        "id": "On6yNuQn1ujD"
      },
      "outputs": [],
      "source": [
        "#index.delete(drop=True)"
      ]
    },
    {
      "cell_type": "markdown",
      "metadata": {
        "id": "oU9qZsAn1ujD"
      },
      "source": [
        "## What's Next?\n",
        "\n",
        "Now that you have tried the easy-to-use RedisVL client, try your hand with LangChain -- the highest level of abstraction for using and integrating Redis as a vector database.\n",
        "\n",
        "\n",
        "<a href=\"https://colab.research.google.com/github/Redislabs-Solution-Architects/financial-vss/blob/main/langchain-03.ipynb\" target=\"_parent\"><img src=\"https://colab.research.google.com/assets/colab-badge.svg\" alt=\"Open In Colab\"/></a>"
      ]
    }
  ],
  "metadata": {
    "accelerator": "GPU",
    "colab": {
      "gpuType": "T4",
      "provenance": []
    },
    "kernelspec": {
      "display_name": "Python 3",
      "name": "python3"
    },
    "language_info": {
      "codemirror_mode": {
        "name": "ipython",
        "version": 3
      },
      "file_extension": ".py",
      "mimetype": "text/x-python",
      "name": "python",
      "nbconvert_exporter": "python",
      "pygments_lexer": "ipython3",
      "version": "3.9.18"
    }
  },
  "nbformat": 4,
  "nbformat_minor": 0
}
